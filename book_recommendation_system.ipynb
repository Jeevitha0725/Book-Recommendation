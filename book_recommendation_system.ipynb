{
 "cells": [
  {
   "cell_type": "code",
   "execution_count": null,
   "id": "818fea69",
   "metadata": {},
   "outputs": [],
   "source": [
    "import pandas as pd\n",
    "import os"
   ]
  },
  {
   "cell_type": "code",
   "execution_count": null,
   "id": "11af3f68",
   "metadata": {},
   "outputs": [],
   "source": [
    "os.chdir(\"C:/Users/sjeev/Documents/dataset/Book_recommendation_sys\")\n",
    "path=os.getcwd()\n",
    "print(path)"
   ]
  },
  {
   "cell_type": "code",
   "execution_count": null,
   "id": "46fe319b",
   "metadata": {},
   "outputs": [],
   "source": [
    "User_df=pd.read_csv(\"C:/Users/sjeev/Documents/dataset/Book_recommendation_sys/Users/Users.csv\")\n",
    "Book_df=pd.read_csv(\"C:/Users/sjeev/Documents/dataset/Book_recommendation_sys/Books/Books.csv\",low_memory=False)\n",
    "Rating_df=pd.read_csv(\"C:/Users/sjeev/Documents/dataset/Book_recommendation_sys/Ratings/Ratings.csv\")"
   ]
  },
  {
   "cell_type": "code",
   "execution_count": null,
   "id": "a981fce1",
   "metadata": {},
   "outputs": [],
   "source": [
    "User_df.head()"
   ]
  },
  {
   "cell_type": "code",
   "execution_count": null,
   "id": "076d7453",
   "metadata": {},
   "outputs": [],
   "source": [
    "Rating_df.head()"
   ]
  },
  {
   "cell_type": "code",
   "execution_count": null,
   "id": "8f3321cd",
   "metadata": {},
   "outputs": [],
   "source": [
    "Book_df.head()"
   ]
  },
  {
   "cell_type": "code",
   "execution_count": null,
   "id": "a87d4a37",
   "metadata": {},
   "outputs": [],
   "source": [
    "User_df.isnull().sum()"
   ]
  },
  {
   "cell_type": "code",
   "execution_count": null,
   "id": "d9ae7630",
   "metadata": {},
   "outputs": [],
   "source": [
    "Rating_df.isnull().sum()"
   ]
  },
  {
   "cell_type": "code",
   "execution_count": null,
   "id": "b2ea3e1b",
   "metadata": {},
   "outputs": [],
   "source": [
    "Book_df.isnull().sum()"
   ]
  },
  {
   "cell_type": "code",
   "execution_count": null,
   "id": "8eeedc8a",
   "metadata": {},
   "outputs": [],
   "source": [
    "Book_df.shape"
   ]
  },
  {
   "cell_type": "code",
   "execution_count": null,
   "id": "3fb5ff09",
   "metadata": {},
   "outputs": [],
   "source": [
    "User_df.shape"
   ]
  },
  {
   "cell_type": "code",
   "execution_count": null,
   "id": "91f500cd",
   "metadata": {},
   "outputs": [],
   "source": [
    "Rating_df.shape"
   ]
  },
  {
   "cell_type": "code",
   "execution_count": null,
   "id": "e4f827b5",
   "metadata": {},
   "outputs": [],
   "source": [
    "User_df.duplicated().sum()"
   ]
  },
  {
   "cell_type": "code",
   "execution_count": null,
   "id": "606ad712",
   "metadata": {},
   "outputs": [],
   "source": [
    "Book_df.duplicated().sum()"
   ]
  },
  {
   "cell_type": "code",
   "execution_count": null,
   "id": "eaa873c6",
   "metadata": {},
   "outputs": [],
   "source": [
    "Rating_df.duplicated().sum()"
   ]
  },
  {
   "cell_type": "code",
   "execution_count": null,
   "id": "63897b02",
   "metadata": {},
   "outputs": [],
   "source": [
    "User_df.columns"
   ]
  },
  {
   "cell_type": "code",
   "execution_count": null,
   "id": "ebb4c9be",
   "metadata": {},
   "outputs": [],
   "source": [
    "Rating_df.columns"
   ]
  },
  {
   "cell_type": "code",
   "execution_count": null,
   "id": "d8b83fe9",
   "metadata": {},
   "outputs": [],
   "source": [
    "Book_df.columns"
   ]
  },
  {
   "cell_type": "code",
   "execution_count": null,
   "id": "9134f859",
   "metadata": {},
   "outputs": [],
   "source": [
    "Rating_Book=Rating_df.merge(Book_df,on=\"ISBN\")\n",
    "Rating_Book.head()"
   ]
  },
  {
   "cell_type": "code",
   "execution_count": null,
   "id": "d54e0095",
   "metadata": {},
   "outputs": [],
   "source": [
    "Rating_Book.count()"
   ]
  },
  {
   "cell_type": "code",
   "execution_count": null,
   "id": "01594c7c",
   "metadata": {},
   "outputs": [],
   "source": [
    "Rating_Book.groupby(\"Book-Title\").count()"
   ]
  },
  {
   "cell_type": "code",
   "execution_count": null,
   "id": "f3c02094",
   "metadata": {},
   "outputs": [],
   "source": [
    "Num_rating=Rating_Book.groupby(\"Book-Title\").count()[\"Book-Rating\"].reset_index()\n",
    "Num_rating=Num_rating.rename(columns={\"Book-Title\":\"Book_Title\",\"Book-Rating\":\"Num_Rating\"},inplace=True)\n",
    "print(Num_rating)"
   ]
  },
  {
   "cell_type": "code",
   "execution_count": null,
   "id": "f5850a22",
   "metadata": {},
   "outputs": [],
   "source": [
    "Avg_Rating=Rating_Book.groupby(\"Book-Title\").mean(numeric_only=True)[\"Book-Rating\"].reset_index()\n",
    "Avg_Rating=Avg_Rating.rename(columns={\"Book-Title\":\"Book_Title\",\"Book-Rating\":\"Avg_Rating\"},inplace=True)\n",
    "Avg_Rating"
   ]
  },
  {
   "cell_type": "code",
   "execution_count": null,
   "id": "dfe5f742",
   "metadata": {
    "scrolled": true
   },
   "outputs": [],
   "source": [
    "Dataframe=Num_rating.merge(Avg_Rating,on=\"Book_Title\")\n",
    "Dataframe.head()"
   ]
  },
  {
   "cell_type": "code",
   "execution_count": null,
   "id": "8b465020",
   "metadata": {},
   "outputs": [],
   "source": [
    "max(Dataframe[\"Num_Rating\"])"
   ]
  },
  {
   "cell_type": "code",
   "execution_count": null,
   "id": "12ec2f6e",
   "metadata": {},
   "outputs": [],
   "source": [
    "Popular_book=Dataframe.loc[Dataframe[\"Num_Rating\"]>=250]\n",
    "len(Popular_book)"
   ]
  },
  {
   "cell_type": "code",
   "execution_count": null,
   "id": "002a8086",
   "metadata": {},
   "outputs": [],
   "source": [
    "Popular_book=Popular_book.drop_duplicates(\"Book_Title\")"
   ]
  },
  {
   "cell_type": "code",
   "execution_count": null,
   "id": "b35dbbba",
   "metadata": {},
   "outputs": [],
   "source": [
    "len(Popular_book)"
   ]
  },
  {
   "cell_type": "code",
   "execution_count": null,
   "id": "d88770f1",
   "metadata": {},
   "outputs": [],
   "source": [
    "Top_Books=Popular_book.sort_values(\"Avg_Rating\",ascending=False)"
   ]
  },
  {
   "cell_type": "code",
   "execution_count": null,
   "id": "e0f0b51b",
   "metadata": {},
   "outputs": [],
   "source": [
    "Top_50=Top_Books.iloc[:50,:]\n",
    "len(Top_50)"
   ]
  },
  {
   "cell_type": "code",
   "execution_count": null,
   "id": "6c4ffc9d",
   "metadata": {},
   "outputs": [],
   "source": [
    "data_pt=Rating_Book.head()\n",
    "data_pt.tail(10)"
   ]
  },
  {
   "cell_type": "code",
   "execution_count": null,
   "id": "9734b41c",
   "metadata": {},
   "outputs": [],
   "source": [
    "#Pivot_table=Rating_Book.pivot_table(index=\"Book-Title\",columns=\"User-ID\",values=\"Book-Rating\")"
   ]
  },
  {
   "cell_type": "code",
   "execution_count": null,
   "id": "1a863da6",
   "metadata": {},
   "outputs": [],
   "source": []
  }
 ],
 "metadata": {
  "kernelspec": {
   "display_name": "Python 3 (ipykernel)",
   "language": "python",
   "name": "python3"
  },
  "language_info": {
   "codemirror_mode": {
    "name": "ipython",
    "version": 3
   },
   "file_extension": ".py",
   "mimetype": "text/x-python",
   "name": "python",
   "nbconvert_exporter": "python",
   "pygments_lexer": "ipython3",
   "version": "3.11.4"
  }
 },
 "nbformat": 4,
 "nbformat_minor": 5
}
